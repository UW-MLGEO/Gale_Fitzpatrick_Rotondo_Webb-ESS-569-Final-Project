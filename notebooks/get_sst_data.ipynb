{
 "cells": [
  {
   "cell_type": "code",
   "execution_count": null,
   "id": "request-data",
   "metadata": {},
   "outputs": [],
   "source": [
    "# Request the data from ERA5\n",
    "\n",
    "# pip install cdsapi if you haven't already\n",
    "# %pip install cdsapi\n",
    "# Import the CDS API\n",
    "import cdsapi\n",
    "\n",
    "dataset = \"reanalysis-era5-single-levels-monthly-means\"\n",
    "request = {\n",
    "    \"product_type\": [\"monthly_averaged_reanalysis\"],\n",
    "    \"variable\": [\"sea_surface_temperature\"],\n",
    "    \"year\": [\n",
    "        \"1979\", \"1980\", \"1981\",\n",
    "        \"1982\", \"1983\", \"1984\",\n",
    "        \"1985\", \"1986\", \"1987\",\n",
    "        \"1988\", \"1989\", \"1990\",\n",
    "        \"1991\", \"1992\", \"1993\",\n",
    "        \"1994\", \"1995\", \"1996\",\n",
    "        \"1997\", \"1998\", \"1999\",\n",
    "        \"2000\", \"2001\", \"2002\",\n",
    "        # Add more years as needed\n",
    "    ],\n",
    "    \"month\": [\n",
    "        \"01\", \"02\", \"03\", \"04\", \"05\", \"06\",\n",
    "        \"07\", \"08\", \"09\", \"10\", \"11\", \"12\"\n",
    "    ],\n",
    "    \"time\": \"00:00\",\n",
    "    \"format\": \"netcdf\"\n",
    "}\n",
    "\n",
    "c = cdsapi.Client()\n",
    "c.retrieve(dataset, request, \"sst_data.nc\")\n"
   ]
  },
  {
   "cell_type": "code",
   "execution_count": null,
   "id": "choose-output",
   "metadata": {},
   "outputs": [],
   "source": [
    "# chose your output file location\n",
    "output_file = 'your/path/to/output.zip'  # FIXME: change this to your path\n",
    "\n",
    "client.download(\"out.nc\", output_file)\n",
    "\n",
    "# remove the .cdsapirc file\n",
    "import os\n",
    "os.remove(cdsapirc_file)\n",
    "\n",
    "# unzip the file\n",
    "import zipfile\n",
    "with zipfile.ZipFile(output_file, 'r') as zip_ref:\n",
    "    zip_ref.extractall('your/path/to/output')  # FIXME: change this to your path\n",
    "\n",
    "# remove the zip file\n",
    "os.remove(output_file)\n",
    "\n",
    "# The data is now saved in the output folder\n"
   ]
  },
  {
   "cell_type": "code",
   "execution_count": null,
   "id": "open-file",
   "metadata": {},
   "outputs": [],
   "source": [
    "# Open the file from the output folder\n",
    "import xarray as xr\n",
    "\n",
    "# Load the dataset\n",
    "ds = xr.open_dataset('your/path/to/output/sst_data.nc')  # FIXME: change this to your path\n"
   ]
  },
  {
   "cell_type": "code",
   "execution_count": null,
   "id": "split-september",
   "metadata": {},
   "outputs": [],
   "source": [
    "# Split the data to only include September\n",
    "import xarray as xr\n",
    "\n",
    "# Load the dataset\n",
    "ds = xr.open_dataset('sst_data.nc')\n",
    "\n",
    "# Select only September data\n",
    "ds_september = ds.sel(time=ds['time.month'] == 9)\n",
    "\n",
    "# Save the September data to a new file\n",
    "ds_september.to_netcdf('sst_september.nc')\n"
   ]
  },
  {
   "cell_type": "code",
   "execution_count": null,
   "id": "create-gif",
   "metadata": {},
   "outputs": [],
   "source": [
    "# Create a GIF from the September data\n",
    "import matplotlib.pyplot as plt\n",
    "import imageio\n",
    "\n",
    "# Load the September dataset\n",
    "ds_september = xr.open_dataset('sst_september.nc')\n",
    "\n",
    "# Create a list to store the images\n",
    "images = []\n",
    "\n",
    "# Loop through each time step and create a plot\n",
    "for i in range(len(ds_september.time)):\n",
    "    plt.figure()\n",
    "    ds_september.sst.isel(time=i).plot()\n",
    "    plt.title(str(ds_september.time[i].values))\n",
    "    plt.savefig('sst_plot.png')\n",
    "    images.append(imageio.imread('sst_plot.png'))\n",
    "    plt.close()\n",
    "\n",
    "# Create a GIF from the images\n",
    "imageio.mimsave('sst_animation.gif', images, fps=1)\n"
   ]
  }
 ],
 "metadata": {
  "kernelspec": {
   "display_name": "Python 3",
   "language": "python",
   "name": "python3"
  },
  "language_info": {
   "codemirror_mode": {
    "name": "ipython",
    "version": 3
   },
   "file_extension": ".py",
   "mimetype": "text/x-python",
   "name": "python",
   "nbconvert_exporter": "python",
   "pygments_lexer": "ipython3",
   "version": "3.8.5"
  }
 },
 "nbformat": 4,
 "nbformat_minor": 5
}
